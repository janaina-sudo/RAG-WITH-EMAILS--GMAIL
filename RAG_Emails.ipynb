{
 "cells": [
  {
   "cell_type": "code",
   "execution_count": 1,
   "metadata": {},
   "outputs": [],
   "source": [
    "from langchain_openai import OpenAIEmbeddings\n",
    "from langchain_openai import ChatOpenAI\n",
    "from langchain_community.document_loaders import DirectoryLoader\n",
    "from langchain_community.vectorstores import FAISS\n",
    "from langchain_text_splitters import RecursiveCharacterTextSplitter\n",
    "import os\n",
    "from langchain.chains.combine_documents import create_stuff_documents_chain\n",
    "from langchain_core.prompts import ChatPromptTemplate\n",
    "from langchain.chains import create_retrieval_chain"
   ]
  },
  {
   "cell_type": "code",
   "execution_count": 3,
   "metadata": {},
   "outputs": [],
   "source": [
    "def clear_screen():\n",
    "\n",
    "    ''' Clears the screen based on the operating system. '''\n",
    "\n",
    "    if os.name == 'nt':  \n",
    "        os.system('cls')\n",
    "    else: \n",
    "        os.system('clear')"
   ]
  },
  {
   "cell_type": "code",
   "execution_count": 4,
   "metadata": {},
   "outputs": [],
   "source": [
    "\n",
    "def rag_llm(doc_loader, query):\n",
    "\n",
    "    ''' \n",
    "        Function that creates a RAG LLM model to answer a query based on the provided context.\n",
    "    \n",
    "        Parameters:\n",
    "        doc_loader: DocumentLoader\n",
    "            The document loader object that loads the context can be .pdf or .eml.\n",
    "        query: str\n",
    "            The query to be answered based on the context.\n",
    "    '''\n",
    "\n",
    "    model = \"gpt-3.5-turbo\"\n",
    "    llm = ChatOpenAI(model=model, api_key=os.environ.get('OPENAI_API_KEY'))\n",
    "\n",
    "    doc = doc_loader.load()    \n",
    "    embeddings = OpenAIEmbeddings()\n",
    "    text_splitter = RecursiveCharacterTextSplitter()\n",
    "\n",
    "    documents = text_splitter.split_documents(doc)\n",
    "    vector_store = FAISS.from_documents(documents, embeddings)\n",
    "\n",
    "    prompt = ChatPromptTemplate.from_template(\"\"\"Answer the following question based only on the provided context:\n",
    "    <context>\n",
    "    {context}\n",
    "    </context>\n",
    "    Question: {input}\"\"\")\n",
    "\n",
    "    document_chain = create_stuff_documents_chain(llm, prompt)\n",
    "    retriever = vector_store.as_retriever()\n",
    "    retrieval_chain = create_retrieval_chain(retriever, document_chain)\n",
    "\n",
    "    response_query = retrieval_chain.invoke({\n",
    "        'input': query\n",
    "    })\n",
    "\n",
    "    return response_query\n"
   ]
  },
  {
   "cell_type": "code",
   "execution_count": 5,
   "metadata": {},
   "outputs": [],
   "source": [
    "\n",
    "def main():\n",
    "\n",
    "    ''' \n",
    "        Main function that allows the user to choose the query type and make \n",
    "        a query based on the email texts or PDF attachment files.\n",
    "    '''\n",
    "\n",
    "    choice_menu = input(\"Choose the query you want to make:\\n 1 - Query based on email texts \\n 2 - Query based on PDF attached to emails\\n\")\n",
    "    clear_screen()\n",
    "\n",
    "    match choice_menu:\n",
    "        case \"1\":\n",
    "            query_1 = input(\"Enter your question, or query, based on the email messages received: \")\n",
    "            clear_screen()\n",
    "            loader_1 = DirectoryLoader(path='emails', glob='**/*.eml')\n",
    "            response_query_1 = rag_llm(loader_1, query_1)\n",
    "            print(response_query_1['answer'])\n",
    "\n",
    "        case \"2\":\n",
    "            query_2 = input(\"Enter your question, or query, based on the PDF attachment files: \")\n",
    "            clear_screen()\n",
    "            loader_2 = DirectoryLoader(path='emails', glob='**/*.pdf')\n",
    "            response_query_2 = rag_llm(loader_2, query_2)\n",
    "            print(response_query_2['answer'])\n",
    "            \n",
    "\n",
    "        case _:\n",
    "            print(\"Invalid query\")"
   ]
  },
  {
   "cell_type": "code",
   "execution_count": 8,
   "metadata": {},
   "outputs": [
    {
     "name": "stdout",
     "output_type": "stream",
     "text": [
      "\u001b[H\u001b[2J\u001b[H\u001b[2JThe evaluation email for SECOMP 2023 was sent by PET Computação.\n"
     ]
    }
   ],
   "source": [
    "if __name__ == '__main__':\n",
    "    main()\n",
    "    "
   ]
  }
 ],
 "metadata": {
  "kernelspec": {
   "display_name": "Python 3",
   "language": "python",
   "name": "python3"
  },
  "language_info": {
   "codemirror_mode": {
    "name": "ipython",
    "version": 3
   },
   "file_extension": ".py",
   "mimetype": "text/x-python",
   "name": "python",
   "nbconvert_exporter": "python",
   "pygments_lexer": "ipython3",
   "version": "3.12.3"
  }
 },
 "nbformat": 4,
 "nbformat_minor": 2
}
